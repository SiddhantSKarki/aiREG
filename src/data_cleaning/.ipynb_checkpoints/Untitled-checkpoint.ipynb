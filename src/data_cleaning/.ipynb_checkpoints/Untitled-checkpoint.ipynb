{
 "cells": [
  {
   "cell_type": "code",
   "execution_count": 11,
   "id": "c3a7dbe4-1102-405e-9ec8-bd47697c2a66",
   "metadata": {},
   "outputs": [],
   "source": [
    "import pandas as pd"
   ]
  },
  {
   "cell_type": "code",
   "execution_count": 12,
   "id": "7a4f4392-8f3f-4892-9955-9b3c38464aeb",
   "metadata": {},
   "outputs": [],
   "source": [
    "raw_df = pd.read_csv('../../raw_data/TEMP1')"
   ]
  },
  {
   "cell_type": "code",
   "execution_count": 13,
   "id": "780a4db2-9b84-4faa-96b5-f5b82a625b94",
   "metadata": {},
   "outputs": [
    {
     "name": "stdout",
     "output_type": "stream",
     "text": [
      "<class 'pandas.core.frame.DataFrame'>\n",
      "RangeIndex: 3 entries, 0 to 2\n",
      "Data columns (total 10 columns):\n",
      " #   Column               Non-Null Count  Dtype \n",
      "---  ------               --------------  ----- \n",
      " 0   CRN                  3 non-null      int64 \n",
      " 1   SUBJECT              3 non-null      object\n",
      " 2   NUMBER               3 non-null      int64 \n",
      " 3   TITLE                3 non-null      object\n",
      " 4   SECTION              3 non-null      object\n",
      " 5   CAMPUS               3 non-null      object\n",
      " 6   CREDITHOURS          3 non-null      int64 \n",
      " 7   ENROLLMENT/CAPACITY  3 non-null      object\n",
      " 8   DELIVERY             3 non-null      object\n",
      " 9   MEETING SCHEDULE     3 non-null      object\n",
      "dtypes: int64(3), object(7)\n",
      "memory usage: 372.0+ bytes\n"
     ]
    }
   ],
   "source": [
    "raw_df.info()"
   ]
  },
  {
   "cell_type": "code",
   "execution_count": 48,
   "id": "fa14dd2e-3a5d-4824-a0cd-a0a36e8077bc",
   "metadata": {},
   "outputs": [],
   "source": [
    "def clean_subject(x):\n",
    "    texts = x.split('\\n')\n",
    "    return texts[0]\n",
    "def clean_meet(x):\n",
    "    texts = x['MEETING SCHEDULE'].split('\\n')\n",
    "    x['MEETING DAYS'] = texts[0]\n",
    "    x['START TIME'] = texts[1].strip().split('-')[0].strip()\n",
    "    x['END TIME'] = texts[1].strip().split('-')[1].strip()\n",
    "    x['HALL'] = texts[2].strip().split(' ')[0]\n",
    "    x['ROOM'] = texts[2].strip().split(' ')[1]\n",
    "    x['START DATE'] = texts[3].strip().split('-')[0].strip()\n",
    "    x['END DATE'] = texts[3].strip().split('-')[1].strip()\n",
    "    del x['MEETING SCHEDULE']\n",
    "    return x\n",
    "def enroll_cap(x):\n",
    "    text_form = x['ENROLLMENT/CAPACITY'].split('\\')\n",
    "                                               \n",
    "                                               \n",
    "    \n",
    "            \n",
    "    \n",
    "raw_df['SUBJECT'] = raw_df['SUBJECT'].apply(clean_subject)"
   ]
  },
  {
   "cell_type": "code",
   "execution_count": 30,
   "id": "43dd27f8-2369-4123-ae81-1348131f741a",
   "metadata": {},
   "outputs": [
    {
     "data": {
      "text/plain": [
       "'TR\\n                                                                                                            1:15pm-2:35pm\\n                                                                                                        BEN 207\\n                                                                                                                                                01/29 - 05/17'"
      ]
     },
     "execution_count": 30,
     "metadata": {},
     "output_type": "execute_result"
    }
   ],
   "source": [
    "raw_df.iloc[0,9]"
   ]
  },
  {
   "cell_type": "code",
   "execution_count": 31,
   "id": "3e858e9d-91af-469d-b39f-ac54df32ffd9",
   "metadata": {},
   "outputs": [],
   "source": [
    "x = ['test', '      ', '      ', 'asdfasd']"
   ]
  },
  {
   "cell_type": "code",
   "execution_count": 50,
   "id": "81623282-25fb-4908-b692-9fa4c2c1c12b",
   "metadata": {},
   "outputs": [],
   "source": [
    "clean_df = raw_df.apply(clean_meet, axis=1)"
   ]
  },
  {
   "cell_type": "code",
   "execution_count": 52,
   "id": "8e072636-c8a8-4471-ae62-4cd517bfcff1",
   "metadata": {},
   "outputs": [
    {
     "data": {
      "text/plain": [
       "'TR\\n                                                                                                            1:15pm-2:35pm\\n                                                                                                        BEN 207\\n                                                                                                                                                01/29 - 05/17'"
      ]
     },
     "execution_count": 52,
     "metadata": {},
     "output_type": "execute_result"
    }
   ],
   "source": [
    "raw_df['MEETING SCHEDULE'][0]"
   ]
  },
  {
   "cell_type": "code",
   "execution_count": 41,
   "id": "8cb16a57-64b1-4caa-9732-c67fd2569b39",
   "metadata": {},
   "outputs": [
    {
     "data": {
      "text/plain": [
       "0    None\n",
       "1    None\n",
       "2    None\n",
       "dtype: object"
      ]
     },
     "execution_count": 41,
     "metadata": {},
     "output_type": "execute_result"
    }
   ],
   "source": [
    "df"
   ]
  },
  {
   "cell_type": "code",
   "execution_count": null,
   "id": "3b556f0b-39c7-4e0c-851b-a21b1741e8ee",
   "metadata": {},
   "outputs": [],
   "source": []
  }
 ],
 "metadata": {
  "kernelspec": {
   "display_name": "Python 3 (ipykernel)",
   "language": "python",
   "name": "python3"
  },
  "language_info": {
   "codemirror_mode": {
    "name": "ipython",
    "version": 3
   },
   "file_extension": ".py",
   "mimetype": "text/x-python",
   "name": "python",
   "nbconvert_exporter": "python",
   "pygments_lexer": "ipython3",
   "version": "3.12.0"
  }
 },
 "nbformat": 4,
 "nbformat_minor": 5
}
